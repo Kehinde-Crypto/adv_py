{
 "cells": [
  {
   "cell_type": "code",
   "execution_count": null,
   "id": "d9afd70e-cb79-4176-b02e-1b273a6b51a1",
   "metadata": {},
   "outputs": [],
   "source": [
    "# dictionaries : they are identified used as unque values of elements:\n",
    " # {}\n",
    " #nature - mutable\n",
    "#index - keys\n",
    "my_dictionary = {'name': 'uche' , 'age': 12 , score : '96'}\n",
    "#keys can only be immutable data types number , string and tuples\n",
    "print(my_dictionary['name'])\n",
    "# to be able to assign a value\n",
    "my_dictionary['grade'] = 'A'\n"
   ]
  },
  {
   "cell_type": "code",
   "execution_count": null,
   "id": "7eb066bd-2370-4c6f-9796-a618c9c2bac9",
   "metadata": {},
   "outputs": [],
   "source": [
    "my_dictionary = {'name': 'uche' , 'age': 12 , score : '96'}\n",
    "print(my_dictionary['name'])\n",
    "using the keyword in for membership it takes only keys \n",
    "my_dictionary.keys() # It will list out all the values , .values() , .items() , .get() and index => index if that key is not the dict it will give an error\n",
    "you cannot index a set , you must use methods to modify a set. , you can chnage the number of the dictory that is the value\n"
   ]
  },
  {
   "cell_type": "code",
   "execution_count": null,
   "id": "9558be67-3f28-4e47-88e9-6d19d27b4539",
   "metadata": {},
   "outputs": [],
   "source": []
  }
 ],
 "metadata": {
  "kernelspec": {
   "display_name": "Python 3 (ipykernel)",
   "language": "python",
   "name": "python3"
  },
  "language_info": {
   "name": ""
  }
 },
 "nbformat": 4,
 "nbformat_minor": 5
}
